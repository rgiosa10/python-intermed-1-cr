{
 "cells": [
  {
   "cell_type": "markdown",
   "metadata": {},
   "source": [
    "## Exercise 1:\n",
    "#### A function called `fourth_place()` that takes a list as an argument:\n",
    "* it should return the fourth item in the list\n",
    "* use `try/except` to catch `IndexErrors` when a list shorter than four items is passed in"
   ]
  },
  {
   "cell_type": "code",
   "execution_count": 4,
   "metadata": {},
   "outputs": [
    {
     "name": "stdout",
     "output_type": "stream",
     "text": [
      "lion\n",
      "Please try again and input a list that has at least 4 items\n",
      "lion\n"
     ]
    }
   ],
   "source": [
    "list_with_4 = [\"dog\", \"cat\", \"fish\", \"lion\"]\n",
    "list_with_1 = [\"dog\"]\n",
    "list_with_5 = [\"dog\", \"cat\", \"fish\", \"lion\", \"wolf\"]\n",
    "\n",
    "def fourth_place(list_placeholder:list) -> str:\n",
    "    \"\"\"Outputs the fourth item in a list, and if a list has < 4 it asks user to try another list.\n",
    "\n",
    "    Args:\n",
    "        list_placeholder (list): A list of different items\n",
    "\n",
    "    Returns:\n",
    "        str: fourth item in the list, as string or message that tells user to try again\n",
    "    \"\"\"\n",
    "    try: \n",
    "        for i in range(0,len(list_placeholder)):\n",
    "            return str(list_placeholder[3])\n",
    "    except IndexError:\n",
    "        return \"Please try again and input a list that has at least 4 items\"\n",
    "\n",
    "print(fourth_place(list_with_4))\n",
    "print(fourth_place(list_with_1))\n",
    "print(fourth_place(list_with_5))\n"
   ]
  },
  {
   "cell_type": "markdown",
   "metadata": {},
   "source": [
    "# Exercise 2:\n",
    "\n",
    "#### A lambda function that takes the two integers as arguments, and subtracts the second number from the first\n",
    "\n",
    "- assign a variable called `subtracter_lambda` to the lambda function\n",
    "\n",
    "- below the variable assignment, call `subtracter_lambda`"
   ]
  },
  {
   "cell_type": "code",
   "execution_count": 6,
   "metadata": {},
   "outputs": [
    {
     "name": "stdout",
     "output_type": "stream",
     "text": [
      "3\n"
     ]
    }
   ],
   "source": [
    "subtracter_lambda = lambda int_1, int_2: int_1 - int_2\n",
    "\n",
    "print(subtracter_lambda(10, 7))"
   ]
  },
  {
   "cell_type": "markdown",
   "metadata": {},
   "source": [
    "# Exercise 3:\n",
    "#### A class called `Shoe` that has the following attributes:\n",
    "* `US_size`: an integer\n",
    "* `color`: a string\n",
    "* `smelly`: a Boolean\n",
    "* `Shoe` should also have a method called `euro_size()` that converts `US_size` to European sizing by adding 33, and prints a string saying Euro size\n",
    "\n",
    "Below the class definition, create two instances of `Shoe`\n",
    "* call the `euro_size()` method on each instance"
   ]
  },
  {
   "cell_type": "code",
   "execution_count": 9,
   "metadata": {},
   "outputs": [
    {
     "name": "stdout",
     "output_type": "stream",
     "text": [
      "The Euro size equivalent of a US size 12, is 45\n",
      "The Euro size equivalent of a US size 10, is 43\n"
     ]
    }
   ],
   "source": [
    "class Shoe:\n",
    "    \"\"\"A class to represent a shoe\n",
    "    \"\"\"\n",
    "    def __init__(self, us_size:int, color:str, smelly:bool) -> None:\n",
    "        \"\"\"Constructs all the necessary attributes for Shoe object.\n",
    "\n",
    "        Args:\n",
    "            us_size (int): size of shoe in the United States\n",
    "            color (str): it is the color of the shoe\n",
    "            smelly (bool): does the shoe smell\n",
    "        \"\"\"\n",
    "        self.us_size = us_size\n",
    "        self.color = color\n",
    "        self.smelly = smelly\n",
    "\n",
    "    def euro_size(self) -> None:\n",
    "        \"\"\"Prints what the US size is and its Euro size equivalent\n",
    "        \"\"\"\n",
    "        euro_size = self.us_size + 33\n",
    "        euro_size_output = f\"The Euro size equivalent of a US size {self.us_size}, is {euro_size}\"\n",
    "        print(euro_size_output)\n",
    "\n",
    "air_jordan = Shoe(12, \"blue\", True)\n",
    "converse = Shoe(10, \"white\", False)\n",
    "\n",
    "air_jordan.euro_size()\n",
    "converse.euro_size()\n"
   ]
  }
 ],
 "metadata": {
  "kernelspec": {
   "display_name": "Python 3.7.15 64-bit",
   "language": "python",
   "name": "python3"
  },
  "language_info": {
   "codemirror_mode": {
    "name": "ipython",
    "version": 3
   },
   "file_extension": ".py",
   "mimetype": "text/x-python",
   "name": "python",
   "nbconvert_exporter": "python",
   "pygments_lexer": "ipython3",
   "version": "3.7.15"
  },
  "orig_nbformat": 4,
  "vscode": {
   "interpreter": {
    "hash": "e774977668b7c0ae8309835a5187aa7fbf7669e7d0bb59755bc63e573643edcd"
   }
  }
 },
 "nbformat": 4,
 "nbformat_minor": 2
}
