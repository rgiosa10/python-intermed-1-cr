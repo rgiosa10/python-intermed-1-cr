{
 "cells": [
  {
   "cell_type": "markdown",
   "metadata": {},
   "source": [
    "## Exercise 1:\n",
    "#### A function called `fourth_place()` that takes a list as an argument:\n",
    "* it should return the fourth item in the list\n",
    "* use `try/except` to catch `IndexErrors` when a list shorter than four items is passed in"
   ]
  },
  {
   "cell_type": "code",
   "execution_count": 4,
   "metadata": {},
   "outputs": [
    {
     "name": "stdout",
     "output_type": "stream",
     "text": [
      "lion\n",
      "Please try again and input a list that has at least 4 items\n",
      "lion\n"
     ]
    }
   ],
   "source": [
    "list_with_4 = [\"dog\", \"cat\", \"fish\", \"lion\"]\n",
    "list_with_1 = [\"dog\"]\n",
    "list_with_5 = [\"dog\", \"cat\", \"fish\", \"lion\", \"wolf\"]\n",
    "\n",
    "def fourth_place(list_placeholder:list) -> str:\n",
    "    \"\"\"Outputs the fourth item in a list, and if a list has less than 4 items it asks user to try another list.\n",
    "\n",
    "    Args:\n",
    "        list_placeholder (list): A list of different items\n",
    "\n",
    "    Returns:\n",
    "        str: fourth item in the list, as string, or message that tells user to try again\n",
    "    \"\"\"\n",
    "    try: \n",
    "        for i in range(0,len(list_placeholder)):\n",
    "            return str(list_placeholder[3])\n",
    "    except IndexError:\n",
    "        return \"Please try again and input a list that has at least 4 items\"\n",
    "\n",
    "print(fourth_place(list_with_4))\n",
    "print(fourth_place(list_with_1))\n",
    "print(fourth_place(list_with_5))\n"
   ]
  },
  {
   "cell_type": "markdown",
   "metadata": {},
   "source": [
    "# Exercise 2:\n",
    "\n",
    "#### A lambda function that takes the two integers as arguments, and subtracts the second number from the first\n",
    "\n",
    "- assign a variable called `subtracter_lambda` to the lambda function\n",
    "\n",
    "- below the variable assignment, call `subtracter_lambda`"
   ]
  },
  {
   "cell_type": "code",
   "execution_count": 6,
   "metadata": {},
   "outputs": [
    {
     "name": "stdout",
     "output_type": "stream",
     "text": [
      "3\n"
     ]
    }
   ],
   "source": [
    "subtracter_lambda = lambda int_1, int_2: int_1 - int_2\n",
    "\n",
    "print(subtracter_lambda(10, 7))"
   ]
  },
  {
   "cell_type": "markdown",
   "metadata": {},
   "source": [
    "# Exercise 3:\n",
    "#### A class called `Shoe` that has the following attributes:\n",
    "* `US_size`: an integer\n",
    "* `color`: a string\n",
    "* `smelly`: a Boolean\n",
    "* `Shoe` should also have a method called `euro_size()` that converts `US_size` to European sizing by adding 33, and prints a string saying Euro size\n",
    "\n",
    "Below the class definition, create two instances of `Shoe`\n",
    "* call the `euro_size()` method on each instance"
   ]
  },
  {
   "cell_type": "code",
   "execution_count": 9,
   "metadata": {},
   "outputs": [
    {
     "name": "stdout",
     "output_type": "stream",
     "text": [
      "The Euro size equivalent of a US size 12, is 45\n",
      "The Euro size equivalent of a US size 10, is 43\n"
     ]
    }
   ],
   "source": [
    "class Shoe:\n",
    "    \"\"\"A class to represent a shoe\n",
    "    \"\"\"\n",
    "    def __init__(self, us_size:int, color:str, smelly:bool) -> None:\n",
    "        \"\"\"Constructs all the necessary attributes for Shoe object.\n",
    "\n",
    "        Args:\n",
    "            us_size (int): size of shoe in the United States\n",
    "            color (str): the color of the shoe\n",
    "            smelly (bool): does the shoe smell? True or False\n",
    "        \"\"\"\n",
    "        self.us_size = us_size\n",
    "        self.color = color\n",
    "        self.smelly = smelly\n",
    "\n",
    "    def euro_size(self) -> None:\n",
    "        \"\"\"Prints what the US size is and its Euro size equivalent\n",
    "        \"\"\"\n",
    "        euro_size = self.us_size + 33\n",
    "        euro_size_output = f\"The Euro size equivalent of a US size {self.us_size}, is {euro_size}\"\n",
    "        print(euro_size_output)\n",
    "\n",
    "air_jordan = Shoe(12, \"blue\", True)\n",
    "converse = Shoe(10, \"white\", False)\n",
    "\n",
    "air_jordan.euro_size()\n",
    "converse.euro_size()\n"
   ]
  },
  {
   "cell_type": "markdown",
   "metadata": {},
   "source": [
    "# Exercise 4:\n",
    "\n",
    "#### Write a function called `galaxy()`. `galaxy()` should take:\n",
    "\n",
    "* a positional argument of the name of the galaxy\n",
    "* a varying number of arguments for objects found in the galaxy, like asteroids and dust\n",
    "* a keyword argument of `pluto_is_planet`, which defaults to a Boolean of your choice\n",
    "* a varying number of keyword arguments for planets and their color\n",
    "\n",
    "`galaxy()` should print a paragraph (a string or series of strings) of space facts. It should include:\n",
    "* The name of the galaxy\n",
    "* What the galaxy contains, if the user passed in any arguments\n",
    "* The number of planets passed in a keyword arguments, with the names of the planets and their colors, if the user passed in any keyword arguments\n",
    "\n",
    "Below the function definition, call galaxy(). You're welcome to make up facts."
   ]
  },
  {
   "cell_type": "code",
   "execution_count": 74,
   "metadata": {},
   "outputs": [
    {
     "name": "stdout",
     "output_type": "stream",
     "text": [
      "The name of the galaxy is Milky Way. Different type of objects in the galaxy include: dust, astroids, stars, and blackholes. There are 4 planets in the Milky Way galaxy, and they vary in colors. Mercury is the color brown. Venus is the color yellow. Earth is the color blue. Pluto is the color light blue. \n",
      "The name of the galaxy is Milky Way. The two types of objects in the galaxy are dust and astroids. There are 4 planets in the Milky Way galaxy, and they vary in colors. Mercury is the color brown. Venus is the color yellow. Earth is the color blue. While you inputted Pluto as a planet (which is the color light blue) you do NOT believe it! So in your reality there are only 3! \n",
      "The name of the galaxy is Milky Way. There are no types of objects in the Milky Way galaxy. While you inputted Pluto as a planet (which is the color light blue) you do NOT believe it! So in your reality there are no planets in the Milky Way galaxy!\n",
      "The name of the galaxy is Milky Way. There are no types of objects in the Milky Way galaxy. There is 1 planet in the Milky Way galaxy called Earth, its a blue color. \n",
      "The name of the galaxy is Milky Way. There is only one type of object in this galaxy and it is dust. There are no planets in the Milky Way galaxy. \n"
     ]
    }
   ],
   "source": [
    "def galaxy(name:str, *args, pluto_is_planet:bool=True, **kwargs) -> None:\n",
    "    \"\"\"This prints out a series of space facts regarding a user defined galaxy\n",
    "\n",
    "    Args:\n",
    "        name (str): This is the name of the galaxy\n",
    "        pluto_is_planet (bool, optional): Denotes user's belief if Pluto is a planet or not. Defaults to True.\n",
    "        *args (optional): list of objects in the galaxy\n",
    "        **kwargs (optional): key/value pair of planets and their colors\n",
    "    \"\"\"\n",
    "    \n",
    "    galaxy_name_output = f\"The name of the galaxy is {name}. \"\n",
    "    objects_in_galaxy = \"Different type of objects in the galaxy include: \"\n",
    "    planets_colors_output = \"\"\n",
    "    count_of_planets_output = \"\"\n",
    "\n",
    "    number_planets = len(kwargs.keys()) \n",
    "    planet_names = list(kwargs.keys())\n",
    "    planet_colors = list(kwargs.values())\n",
    "    \n",
    "    # Determines output for the objects\n",
    "    if len(args) == 1: # if there is only one object in the galaxy\n",
    "        objects_in_galaxy = f\"There is only one type of object in this galaxy and it is {args[0]}. \"\n",
    "    elif len(args) == 2 : # if there are two objects in the galaxy\n",
    "        objects_in_galaxy = f\"The two types of objects in the galaxy are {args[0]} and {args[1]}. \"\n",
    "    elif len(args) > 2 : # if there are 3 or more objects in the galaxy\n",
    "        for obj in range(len(args)):\n",
    "            if obj in range(0, len(args) -1):\n",
    "                objects_in_galaxy += f\"{args[obj]}, \"\n",
    "            else:\n",
    "                objects_in_galaxy += f\"and {args[obj]}. \"\n",
    "    else: # if there are no objects in the galaxy\n",
    "        objects_in_galaxy = f\"There are no types of objects in the {name} galaxy. \"\n",
    "\n",
    "    # Determines output for the planets and their colors\n",
    "    if len(kwargs) == 1: # if there is only 1 planet with color inputted\n",
    "        if (pluto_is_planet == False) and (planet_names[0] == \"Pluto\"):\n",
    "                planets_colors_output = f\"While you inputted {planet_names[0]} as a planet (which is the color {planet_colors[0]}) you do NOT believe it! So in your reality there are no planets in the {name} galaxy!\"\n",
    "        else:\n",
    "            planets_colors_output = f\"There is {number_planets} planet in the {name} galaxy called {planet_names[0]}, its a {planet_colors[0]} color. \"\n",
    "    elif len(kwargs) > 1: # if there are more than 1 planet with color pair inputted\n",
    "        count_of_planets_output = f\"There are {number_planets} planets in the {name} galaxy, and they vary in colors. \"\n",
    "        #print(count_of_planets_output)\n",
    "        for key, value in kwargs.items():\n",
    "            if pluto_is_planet == False:\n",
    "                if key == \"Pluto\":\n",
    "                    planets_colors_output = f\"While you inputted {key} as a planet (which is the color {value}) you do NOT believe it! So in your reality there are only {number_planets - 1}! \"\n",
    "                else:\n",
    "                    count_of_planets_output += f\"{key} is the color {value}. \"\n",
    "            else:\n",
    "                count_of_planets_output += f\"{key} is the color {value}. \"\n",
    "    else: # if no planet color pairs inputted \n",
    "        planets_colors_output = f\"There are no planets in the {name} galaxy. \"\n",
    "\n",
    "    paragraph = galaxy_name_output + objects_in_galaxy + count_of_planets_output + planets_colors_output \n",
    "    print(paragraph)\n",
    "    \n",
    "galaxy(\"Milky Way\", \"dust\", \"astroids\", \"stars\", \"blackholes\", pluto_is_planet=True, Mercury= \"brown\", Venus= \"yellow\", Earth= \"blue\", Pluto= \"light blue\")\n",
    "galaxy(\"Milky Way\", \"dust\", \"astroids\", pluto_is_planet=False, Mercury= \"brown\", Venus= \"yellow\", Earth= \"blue\", Pluto= \"light blue\")\n",
    "\n",
    "galaxy(\"Milky Way\", pluto_is_planet=False, Pluto= \"light blue\")\n",
    "galaxy(\"Milky Way\", pluto_is_planet=False, Earth= \"blue\")\n",
    "\n",
    "galaxy(\"Milky Way\", \"dust\")"
   ]
  },
  {
   "cell_type": "markdown",
   "metadata": {},
   "source": [
    "Include type hints and docstrings in each function."
   ]
  }
 ],
 "metadata": {
  "kernelspec": {
   "display_name": "Python 3.7.15 64-bit",
   "language": "python",
   "name": "python3"
  },
  "language_info": {
   "codemirror_mode": {
    "name": "ipython",
    "version": 3
   },
   "file_extension": ".py",
   "mimetype": "text/x-python",
   "name": "python",
   "nbconvert_exporter": "python",
   "pygments_lexer": "ipython3",
   "version": "3.7.15"
  },
  "orig_nbformat": 4,
  "vscode": {
   "interpreter": {
    "hash": "e774977668b7c0ae8309835a5187aa7fbf7669e7d0bb59755bc63e573643edcd"
   }
  }
 },
 "nbformat": 4,
 "nbformat_minor": 2
}
