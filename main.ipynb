{
 "cells": [
  {
   "cell_type": "markdown",
   "metadata": {},
   "source": [
    "## Exercise 1:\n",
    "#### A function called `fourth_place()` that takes a list as an argument:\n",
    "* it should return the fourth item in the list\n",
    "* use `try/except` to catch `IndexErrors` when a list shorter than four items is passed in"
   ]
  },
  {
   "cell_type": "code",
   "execution_count": 4,
   "metadata": {},
   "outputs": [
    {
     "name": "stdout",
     "output_type": "stream",
     "text": [
      "lion\n",
      "Please try again and input a list that has at least 4 items\n",
      "lion\n"
     ]
    }
   ],
   "source": [
    "list_with_4 = [\"dog\", \"cat\", \"fish\", \"lion\"]\n",
    "list_with_1 = [\"dog\"]\n",
    "list_with_5 = [\"dog\", \"cat\", \"fish\", \"lion\", \"wolf\"]\n",
    "\n",
    "def fourth_place(list_placeholder:list) -> str:\n",
    "    \"\"\"Outputs the fourth item in a list, and if a list has < 4 it asks user to try another list.\n",
    "\n",
    "    Args:\n",
    "        list_placeholder (list): A list of different items\n",
    "\n",
    "    Returns:\n",
    "        str: fourth item in the list, as string or message that tells user to try again\n",
    "    \"\"\"\n",
    "    try: \n",
    "        for i in range(0,len(list_placeholder)):\n",
    "            return str(list_placeholder[3])\n",
    "    except IndexError:\n",
    "        return \"Please try again and input a list that has at least 4 items\"\n",
    "\n",
    "print(fourth_place(list_with_4))\n",
    "print(fourth_place(list_with_1))\n",
    "print(fourth_place(list_with_5))\n"
   ]
  },
  {
   "cell_type": "markdown",
   "metadata": {},
   "source": [
    "# Exercise 2:\n",
    "\n",
    "#### A lambda function that takes the two integers as arguments, and subtracts the second number from the first\n",
    "\n",
    "- assign a variable called `subtracter_lambda` to the lambda function\n",
    "\n",
    "- below the variable assignment, call `subtracter_lambda`"
   ]
  },
  {
   "cell_type": "code",
   "execution_count": null,
   "metadata": {},
   "outputs": [],
   "source": [
    "int_1 = 9\n",
    "int_2 = 7\n",
    "\n",
    "lambda int_1, int_2: "
   ]
  }
 ],
 "metadata": {
  "kernelspec": {
   "display_name": "Python 3.7.15 64-bit",
   "language": "python",
   "name": "python3"
  },
  "language_info": {
   "codemirror_mode": {
    "name": "ipython",
    "version": 3
   },
   "file_extension": ".py",
   "mimetype": "text/x-python",
   "name": "python",
   "nbconvert_exporter": "python",
   "pygments_lexer": "ipython3",
   "version": "3.7.15"
  },
  "orig_nbformat": 4,
  "vscode": {
   "interpreter": {
    "hash": "e774977668b7c0ae8309835a5187aa7fbf7669e7d0bb59755bc63e573643edcd"
   }
  }
 },
 "nbformat": 4,
 "nbformat_minor": 2
}
